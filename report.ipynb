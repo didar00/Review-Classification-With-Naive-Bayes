{
 "cells": [
  {
   "cell_type": "markdown",
   "metadata": {},
   "source": [
    "# Report"
   ]
  },
  {
   "cell_type": "markdown",
   "metadata": {},
   "source": [
    "## Naive Bayes Classifier"
   ]
  },
  {
   "cell_type": "markdown",
   "metadata": {},
   "source": [
    "With the help of the assumption that the words in a sentence can be taken into consideration independently, Naive Bayes classifier is convenient for text classification. All we need to do is calculate mutually independent probabilities of each word in the sentence and compare them without the need of normalization."
   ]
  },
  {
   "attachments": {
    "naive_formula.png": {
     "image/png": "[encoded data removed]"
    }
   },
   "cell_type": "markdown",
   "metadata": {},
   "source": [
    "![naive_formula.png](attachment:naive_formula.png)"
   ]
  },
  {
   "cell_type": "markdown",
   "metadata": {},
   "source": [
    "To achieve this goal, probabilities of two classes (positive and negative in this assignment) must be calculated for each sentences."
   ]
  },
  {
   "cell_type": "markdown",
   "metadata": {},
   "source": [
    "## Preparation of Input"
   ]
  },
  {
   "cell_type": "markdown",
   "metadata": {},
   "source": [
    "Before getting into the classification algorithm, input must be cleaned and prepared to avoid the unnecessery calculations and to satisfy the required result."
   ]
  },
  {
   "cell_type": "markdown",
   "metadata": {},
   "source": [
    "*camera pos 69.txt i recently purchased this for use with my 550ex . if you use alot of flash for event photography , you will want this in your kit . it is expensive , but i think it is worth every penny . it will keep you from changing aas in your strobe and it quickens the recycle times to nearly instant . you can shoot bursts and still get the proper flash exposure . you can attach a strap to sling it over your shoulder or slip it on your belt . mounting on my 20d was just not comfortable . it gets in the way of the hand-grip *"
   ]
  },
  {
   "cell_type": "markdown",
   "metadata": {},
   "source": [
    "For each review **(one raw review input can be seen above)**, punctuations and numerical values were removed throughout the program. Each input review was stored under a dataframe which consists of 4 columns: category, review class, identifier (which was stored as plain numbers: 345 i.e.) and the review itself.\n",
    "Stop words, both was included and excluded to understand the effect of it.\n",
    "**(processed review input below)**"
   ]
  },
  {
   "cell_type": "markdown",
   "metadata": {},
   "source": [
    "*camera pos 69 i recently purchased this for use with my ex  if you use alot of flash for event photography you will want this in your kit it is expensive but i think it is worth every penny it will keep you from changing aas in your strobe and it quickens the recycle times to nearly instant you can shoot bursts and still get the proper flash exposure you can attach a strap to sling it over your shoulder or slip it on your belt mounting on my d was just not comfortable it gets in the way of the hand grip*"
   ]
  },
  {
   "cell_type": "markdown",
   "metadata": {},
   "source": [
    "## Bag of Words"
   ]
  },
  {
   "cell_type": "markdown",
   "metadata": {},
   "source": [
    "In order to calculate the probability of a given word in a sentence, given a class, probability of the word must be known. This can be calculated from the frequency of the word in that given class. To ease that process, since it may be used for hundreds of words, **bag of words** method was used. In **BoW**, every word in the corpus is stored along with the frequency information. However, in case of absence of a word in the BoW ( zero frequency), the total probability becomes zero whatever the other probabilities are. Therefore, **laplace smoothing** was used to avoid zero probability."
   ]
  },
  {
   "cell_type": "markdown",
   "metadata": {},
   "source": [
    "### Unigram"
   ]
  },
  {
   "cell_type": "markdown",
   "metadata": {},
   "source": [
    "First way to implement Naive Bayes classifier to texts is to approach words singularly. It is a helpful and easy way to classify the texts. However, in the process of singularity, the meaning of word groups (the word that their meaning depends on the surrounding words) is excluded."
   ]
  },
  {
   "cell_type": "markdown",
   "metadata": {},
   "source": [
    "### Effect of Stop Words in Unigram"
   ]
  },
  {
   "cell_type": "markdown",
   "metadata": {},
   "source": [
    "At the first step, accuracy was calculated with stop words included. The accuracy with stop words is **0.809**.\n",
    "The next step, stop words was not taken into consideration. The accuracy is **0.801**.\n",
    "In this case, the change in the accuracy in the level of **%0.8**, which is a non significant ratio to compare the cases."
   ]
  },
  {
   "cell_type": "markdown",
   "metadata": {},
   "source": [
    "### Bigram"
   ]
  },
  {
   "cell_type": "markdown",
   "metadata": {},
   "source": [
    "In contrast to unigram BoW, bigram enables to keep the meanings of the word pairs. In this case, BoW composed of word pairs and their frequencies in the corpus. Every other process are the same as unigram implementation. However, meanings that come from word pairs are not excluded and helps to classify the text more accurately."
   ]
  },
  {
   "cell_type": "markdown",
   "metadata": {},
   "source": [
    "### Effect of Stop Words in Bigram"
   ]
  },
  {
   "cell_type": "markdown",
   "metadata": {},
   "source": [
    "Without stop words in bigram the accuracy is **0.734**. Without leaving out the stopwords, bigram has showed a slightly better performance with accuracy of **0.749**."
   ]
  },
  {
   "cell_type": "markdown",
   "metadata": {},
   "source": [
    "The effect of leaving out stop words on accuracy may change from dataset to dataset. In this dataset, leaving stop words out has improved the accuracy slightly since they are so common but give so little information about the classification. However, there may be cases that removing stop words improves performance if the stop words dictionary is expanded with the well-processed not-important words. "
   ]
  },
  {
   "cell_type": "markdown",
   "metadata": {},
   "source": [
    "## Accuracy Analysis"
   ]
  },
  {
   "cell_type": "markdown",
   "metadata": {},
   "source": [
    "Algorithm has been trained with the **%80** of the data and has been tested with the **%20** of the data.\n",
    "The accuracy of the model is **%81.9**.\n",
    "To visualize the accuracy of the algorithm, **confusion matrix** can be seen below."
   ]
  },
  {
   "attachments": {
    "confusion.png": {
     "image/png": "[encoded data removed]"
    }
   },
   "cell_type": "markdown",
   "metadata": {},
   "source": [
    "![confusion.png](attachment:confusion.png)"
   ]
  },
  {
   "cell_type": "markdown",
   "metadata": {},
   "source": [
    "## Error Analysis"
   ]
  },
  {
   "cell_type": "markdown",
   "metadata": {},
   "source": [
    "Number of false positives is 236, and number of false negatives is 254. That gives us the error of **%18** in the process of classifying. These misclassifications may be caused from the data that has not been cleaned enough from the meaningless words even though the vocabulary was restricted throughout the process to improve the accuracy. In some cases, bigram remains incapable to store the meanings of words group which are consist of more than 2 words. N-gram bag of words can be used interchangibly to improve the performance further. "
   ]
  },
  {
   "cell_type": "markdown",
   "metadata": {},
   "source": [
    "## Module Analysis"
   ]
  },
  {
   "cell_type": "markdown",
   "metadata": {},
   "source": [
    "Not every word has the same importance when it comes to giving a direction to the classifier to classify the text. Some words reveal much more information about the class of the text. For example, word \"excellent\" is more helpful than \"bookshop\" in terms of understanding the emotion of the text. Therefore has more importance.\n",
    "In order to find these words, **term frequency-inverse document frequency** can be used. In the light of this, each term has a frequency which is expressed as the number of times each term occurs in each document. On the other side, inverse document frequency gives the information of how common or rare a word is in the entire corpus. Multiplication of these terms results in the **TF-IDF** score of a word in a document. "
   ]
  },
  {
   "attachments": {
    "tf_formula.png": {
     "image/png": "[encoded data removed]"
    }
   },
   "cell_type": "markdown",
   "metadata": {},
   "source": [
    "![tf_formula.png](attachment:tf_formula.png)"
   ]
  },
  {
   "attachments": {
    "idf_formula.png": {
     "image/png": "[encoded data removed]"
    }
   },
   "cell_type": "markdown",
   "metadata": {},
   "source": [
    "![idf_formula.png](attachment:idf_formula.png)"
   ]
  },
  {
   "attachments": {
    "tf_idf.png": {
     "image/png": "[encoded data removed]"
    }
   },
   "cell_type": "markdown",
   "metadata": {},
   "source": [
    "![tf_idf.png](attachment:tf_idf.png)"
   ]
  },
  {
   "attachments": {},
   "cell_type": "markdown",
   "metadata": {},
   "source": [
    "\n"
   ]
  },
  {
   "cell_type": "markdown",
   "metadata": {},
   "source": [
    "**The most important words that signals the review is positive are:**  \n",
    "*great    0.238029  \n",
    "like     0.219102  \n",
    "just     0.196940  \n",
    "good     0.192747  \n",
    "time     0.154773  \n",
    "really   0.134528  \n",
    "best     0.118476  \n",
    "love     0.116798  \n",
    "way      0.087449  \n",
    "better   0.085293*  "
   ]
  },
  {
   "cell_type": "markdown",
   "metadata": {},
   "source": [
    "**10 words whose absence predicts the review is positive:**  \n",
    "*bad       0.082980  \n",
    "people    0.081414  \n",
    "know      0.076568  \n",
    "money     0.075973  \n",
    "used      0.067214  \n",
    "think     0.066642  \n",
    "problem   0.064126  \n",
    "little    0.059674  \n",
    "support   0.058570  \n",
    "actually  0.053789* "
   ]
  },
  {
   "cell_type": "markdown",
   "metadata": {},
   "source": [
    "**The most important words that signals the review is negative are:**  \n",
    "*bad       0.082980  \n",
    "people    0.081414  \n",
    "new       0.079296  \n",
    "money     0.075973  \n",
    "bought    0.074671  \n",
    "got       0.071067  \n",
    "problem   0.064126  \n",
    "say       0.063191  \n",
    "little    0.059674  \n",
    "support   0.058570*  "
   ]
  },
  {
   "cell_type": "markdown",
   "metadata": {},
   "source": [
    "**10 words whose absence predicts the review is negative:**  \n",
    "*great   0.170570  \n",
    "like    0.146257  \n",
    "good    0.136429  \n",
    "time    0.120247  \n",
    "best    0.110028  \n",
    "love    0.105577  \n",
    "does    0.098961  \n",
    "new     0.090242  \n",
    "easy    0.083994  \n",
    "years   0.078169*"
   ]
  },
  {
   "cell_type": "markdown",
   "metadata": {},
   "source": [
    "## Restricting the Vocabulary Space"
   ]
  },
  {
   "cell_type": "markdown",
   "metadata": {},
   "source": [
    "To improve the accuracy, text classification can be completed through the restricted space of vocabulary which consists of only most informational words. This can be achieved through using **TF-IDF** scores of the words in the required sentence.  \n",
    "After this improvement, the accuracy with **unigram** increased by **%1** from **%81.9** to **%82.7**. "
   ]
  },
  {
   "cell_type": "markdown",
   "metadata": {},
   "source": []
  },
  {
   "cell_type": "markdown",
   "metadata": {},
   "source": []
  },
  {
   "cell_type": "markdown",
   "metadata": {},
   "source": []
  }
 ],
 "metadata": {
  "kernelspec": {
   "display_name": "Python 3",
   "language": "python",
   "name": "python3"
  },
  "language_info": {
   "codemirror_mode": {
    "name": "ipython",
    "version": 3
   },
   "file_extension": ".py",
   "mimetype": "text/x-python",
   "name": "python",
   "nbconvert_exporter": "python",
   "pygments_lexer": "ipython3",
   "version": "3.8.5"
  }
 },
 "nbformat": 4,
 "nbformat_minor": 2
}
